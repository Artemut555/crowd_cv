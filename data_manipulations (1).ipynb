{
 "cells": [
  {
   "cell_type": "code",
   "execution_count": 2,
   "id": "2fb66a51-f454-44c2-b1d7-d7e579936ef1",
   "metadata": {
    "execution": {
     "iopub.execute_input": "2024-12-23T16:38:33.802704Z",
     "iopub.status.busy": "2024-12-23T16:38:33.801810Z",
     "iopub.status.idle": "2024-12-23T16:38:34.296982Z",
     "shell.execute_reply": "2024-12-23T16:38:34.296030Z",
     "shell.execute_reply.started": "2024-12-23T16:38:33.802656Z"
    },
    "tags": []
   },
   "outputs": [],
   "source": [
    "import os\n",
    "import pandas as pd\n",
    "import requests\n",
    "from tqdm import tqdm  # For progress bar\n",
    "\n",
    "def download_image(url, save_path):\n",
    "    try:\n",
    "        response = requests.get(url, stream=True)\n",
    "        response.raise_for_status()  # Check for HTTP errors\n",
    "        with open(save_path, 'wb') as out_file:\n",
    "            out_file.write(response.content)\n",
    "    except Exception as e:\n",
    "        print(f\"Error downloading {url}: {e}\")\n",
    "\n",
    "def download_images_from_csv(csv_file, image_column, output_dir):\n",
    "    # Create output directory if it doesn't exist\n",
    "    os.makedirs(output_dir, exist_ok=True)\n",
    "\n",
    "    # Load the CSV file\n",
    "    if csv_file.endswith(\".xlsx\"):\n",
    "        df = pd.read_excel(csv_file)\n",
    "    else:\n",
    "        df = pd.read_csv(csv_file, sep=\"\\t\")\n",
    "    # print(df)\n",
    "    # Iterate over the rows in the DataFrame\n",
    "    for index, row in tqdm(df.iterrows(), total=df.shape[0]):\n",
    "        url = row[image_column]\n",
    "        filename = os.path.join(output_dir, url.split('/')[-1])  # Change the naming convention if needed\n",
    "        download_image(url, filename)\n",
    "\n",
    "# if __name__ == '__main__':\n",
    "    # Specify your CSV file path, the column name with URLs, and output directory\n",
    "csv_file = 'data/hw_3_markup_data.txt'  # Replace with your CSV file path\n",
    "image_column = 'downloadUrl'  # Replace with the actual column name containing URLs\n",
    "output_dir = 'data/gt_images'  # Directory to save downloaded images\n",
    "\n",
    "# download_images_from_csv(csv_file, image_column, output_dir)"
   ]
  },
  {
   "cell_type": "code",
   "execution_count": 3,
   "id": "0ad11d10-ab3f-48ce-9519-c52810ffa2e0",
   "metadata": {
    "execution": {
     "iopub.execute_input": "2024-12-23T16:38:44.703148Z",
     "iopub.status.busy": "2024-12-23T16:38:44.701524Z",
     "iopub.status.idle": "2024-12-23T16:38:44.795553Z",
     "shell.execute_reply": "2024-12-23T16:38:44.794505Z",
     "shell.execute_reply.started": "2024-12-23T16:38:44.703099Z"
    }
   },
   "outputs": [
    {
     "data": {
      "text/html": [
       "<div>\n",
       "<style scoped>\n",
       "    .dataframe tbody tr th:only-of-type {\n",
       "        vertical-align: middle;\n",
       "    }\n",
       "\n",
       "    .dataframe tbody tr th {\n",
       "        vertical-align: top;\n",
       "    }\n",
       "\n",
       "    .dataframe thead th {\n",
       "        text-align: right;\n",
       "    }\n",
       "</style>\n",
       "<table border=\"1\" class=\"dataframe\">\n",
       "  <thead>\n",
       "    <tr style=\"text-align: right;\">\n",
       "      <th></th>\n",
       "      <th>INPUT:downloadUrl</th>\n",
       "      <th>OUTPUT:is_conifer</th>\n",
       "      <th>CONFIDENCE:is_conifer</th>\n",
       "      <th>Unnamed: 3</th>\n",
       "    </tr>\n",
       "  </thead>\n",
       "  <tbody>\n",
       "    <tr>\n",
       "      <th>0</th>\n",
       "      <td>https://new-projects-team-public.s3.yandex.net...</td>\n",
       "      <td>False</td>\n",
       "      <td>100.00%</td>\n",
       "      <td>NaN</td>\n",
       "    </tr>\n",
       "    <tr>\n",
       "      <th>1</th>\n",
       "      <td>https://new-projects-team-public.s3.yandex.net...</td>\n",
       "      <td>False</td>\n",
       "      <td>100.00%</td>\n",
       "      <td>NaN</td>\n",
       "    </tr>\n",
       "    <tr>\n",
       "      <th>2</th>\n",
       "      <td>https://new-projects-team-public.s3.yandex.net...</td>\n",
       "      <td>True</td>\n",
       "      <td>99.99%</td>\n",
       "      <td>NaN</td>\n",
       "    </tr>\n",
       "    <tr>\n",
       "      <th>3</th>\n",
       "      <td>https://new-projects-team-public.s3.yandex.net...</td>\n",
       "      <td>True</td>\n",
       "      <td>99.99%</td>\n",
       "      <td>NaN</td>\n",
       "    </tr>\n",
       "    <tr>\n",
       "      <th>4</th>\n",
       "      <td>https://new-projects-team-public.s3.yandex.net...</td>\n",
       "      <td>False</td>\n",
       "      <td>99.99%</td>\n",
       "      <td>NaN</td>\n",
       "    </tr>\n",
       "  </tbody>\n",
       "</table>\n",
       "</div>"
      ],
      "text/plain": [
       "                                   INPUT:downloadUrl  ...  Unnamed: 3\n",
       "0  https://new-projects-team-public.s3.yandex.net...  ...         NaN\n",
       "1  https://new-projects-team-public.s3.yandex.net...  ...         NaN\n",
       "2  https://new-projects-team-public.s3.yandex.net...  ...         NaN\n",
       "3  https://new-projects-team-public.s3.yandex.net...  ...         NaN\n",
       "4  https://new-projects-team-public.s3.yandex.net...  ...         NaN\n",
       "\n",
       "[5 rows x 4 columns]"
      ]
     },
     "execution_count": 3,
     "metadata": {},
     "output_type": "execute_result"
    }
   ],
   "source": [
    "agg_file = \"data/last_aggregated.tsv\"\n",
    "agg_data = pd.read_csv(agg_file, sep='\\t')\n",
    "agg_data.head(5)"
   ]
  },
  {
   "cell_type": "code",
   "execution_count": 4,
   "id": "8e3ea389-7897-4b7f-805e-0202c48befb2",
   "metadata": {
    "execution": {
     "iopub.execute_input": "2024-12-23T16:38:47.657184Z",
     "iopub.status.busy": "2024-12-23T16:38:47.656366Z",
     "iopub.status.idle": "2024-12-23T16:43:09.391503Z",
     "shell.execute_reply": "2024-12-23T16:43:09.390580Z",
     "shell.execute_reply.started": "2024-12-23T16:38:47.657139Z"
    },
    "tags": []
   },
   "outputs": [
    {
     "name": "stderr",
     "output_type": "stream",
     "text": [
      "100%|██████████| 1949/1949 [04:21<00:00,  7.45it/s]\n"
     ]
    }
   ],
   "source": [
    "download_images_from_csv(agg_file, \"INPUT:downloadUrl\", output_dir)"
   ]
  },
  {
   "cell_type": "code",
   "execution_count": 5,
   "id": "1ed4880d-fee3-417a-914f-5178575842e2",
   "metadata": {
    "execution": {
     "iopub.execute_input": "2024-12-23T16:43:11.042196Z",
     "iopub.status.busy": "2024-12-23T16:43:11.041159Z",
     "iopub.status.idle": "2024-12-23T16:43:11.072944Z",
     "shell.execute_reply": "2024-12-23T16:43:11.072135Z",
     "shell.execute_reply.started": "2024-12-23T16:43:11.042145Z"
    },
    "tags": []
   },
   "outputs": [
    {
     "data": {
      "text/html": [
       "<div>\n",
       "<style scoped>\n",
       "    .dataframe tbody tr th:only-of-type {\n",
       "        vertical-align: middle;\n",
       "    }\n",
       "\n",
       "    .dataframe tbody tr th {\n",
       "        vertical-align: top;\n",
       "    }\n",
       "\n",
       "    .dataframe thead th {\n",
       "        text-align: right;\n",
       "    }\n",
       "</style>\n",
       "<table border=\"1\" class=\"dataframe\">\n",
       "  <thead>\n",
       "    <tr style=\"text-align: right;\">\n",
       "      <th></th>\n",
       "      <th>INPUT:downloadUrl</th>\n",
       "      <th>OUTPUT:is_conifer</th>\n",
       "      <th>CONFIDENCE:is_conifer</th>\n",
       "      <th>Unnamed: 3</th>\n",
       "    </tr>\n",
       "  </thead>\n",
       "  <tbody>\n",
       "    <tr>\n",
       "      <th>0</th>\n",
       "      <td>https://new-projects-team-public.s3.yandex.net...</td>\n",
       "      <td>False</td>\n",
       "      <td>100.00%</td>\n",
       "      <td>NaN</td>\n",
       "    </tr>\n",
       "    <tr>\n",
       "      <th>1</th>\n",
       "      <td>https://new-projects-team-public.s3.yandex.net...</td>\n",
       "      <td>False</td>\n",
       "      <td>100.00%</td>\n",
       "      <td>NaN</td>\n",
       "    </tr>\n",
       "    <tr>\n",
       "      <th>2</th>\n",
       "      <td>https://new-projects-team-public.s3.yandex.net...</td>\n",
       "      <td>True</td>\n",
       "      <td>99.99%</td>\n",
       "      <td>NaN</td>\n",
       "    </tr>\n",
       "    <tr>\n",
       "      <th>3</th>\n",
       "      <td>https://new-projects-team-public.s3.yandex.net...</td>\n",
       "      <td>True</td>\n",
       "      <td>99.99%</td>\n",
       "      <td>NaN</td>\n",
       "    </tr>\n",
       "    <tr>\n",
       "      <th>4</th>\n",
       "      <td>https://new-projects-team-public.s3.yandex.net...</td>\n",
       "      <td>False</td>\n",
       "      <td>99.99%</td>\n",
       "      <td>NaN</td>\n",
       "    </tr>\n",
       "  </tbody>\n",
       "</table>\n",
       "</div>"
      ],
      "text/plain": [
       "                                   INPUT:downloadUrl  ...  Unnamed: 3\n",
       "0  https://new-projects-team-public.s3.yandex.net...  ...         NaN\n",
       "1  https://new-projects-team-public.s3.yandex.net...  ...         NaN\n",
       "2  https://new-projects-team-public.s3.yandex.net...  ...         NaN\n",
       "3  https://new-projects-team-public.s3.yandex.net...  ...         NaN\n",
       "4  https://new-projects-team-public.s3.yandex.net...  ...         NaN\n",
       "\n",
       "[5 rows x 4 columns]"
      ]
     },
     "execution_count": 5,
     "metadata": {},
     "output_type": "execute_result"
    }
   ],
   "source": [
    "agg_file = \"data/last_aggregated.tsv\"\n",
    "agg_data = pd.read_csv(agg_file, sep='\\t')\n",
    "agg_data.head(5)\n",
    "# urls = agg_data['']"
   ]
  },
  {
   "cell_type": "code",
   "execution_count": 6,
   "id": "ddc2bdc5-7a4a-4eea-98b1-261664874992",
   "metadata": {
    "execution": {
     "iopub.execute_input": "2024-12-23T16:43:15.479089Z",
     "iopub.status.busy": "2024-12-23T16:43:15.478025Z",
     "iopub.status.idle": "2024-12-23T16:43:15.504880Z",
     "shell.execute_reply": "2024-12-23T16:43:15.503971Z",
     "shell.execute_reply.started": "2024-12-23T16:43:15.479044Z"
    },
    "tags": []
   },
   "outputs": [
    {
     "data": {
      "text/html": [
       "<div>\n",
       "<style scoped>\n",
       "    .dataframe tbody tr th:only-of-type {\n",
       "        vertical-align: middle;\n",
       "    }\n",
       "\n",
       "    .dataframe tbody tr th {\n",
       "        vertical-align: top;\n",
       "    }\n",
       "\n",
       "    .dataframe thead th {\n",
       "        text-align: right;\n",
       "    }\n",
       "</style>\n",
       "<table border=\"1\" class=\"dataframe\">\n",
       "  <thead>\n",
       "    <tr style=\"text-align: right;\">\n",
       "      <th></th>\n",
       "      <th>INPUT:downloadUrl</th>\n",
       "      <th>OUTPUT:is_conifer</th>\n",
       "      <th>CONFIDENCE:is_conifer</th>\n",
       "      <th>Unnamed: 3</th>\n",
       "    </tr>\n",
       "  </thead>\n",
       "  <tbody>\n",
       "    <tr>\n",
       "      <th>0</th>\n",
       "      <td>https://new-projects-team-public.s3.yandex.net...</td>\n",
       "      <td>False</td>\n",
       "      <td>100.00%</td>\n",
       "      <td>NaN</td>\n",
       "    </tr>\n",
       "    <tr>\n",
       "      <th>1</th>\n",
       "      <td>https://new-projects-team-public.s3.yandex.net...</td>\n",
       "      <td>False</td>\n",
       "      <td>100.00%</td>\n",
       "      <td>NaN</td>\n",
       "    </tr>\n",
       "    <tr>\n",
       "      <th>2</th>\n",
       "      <td>https://new-projects-team-public.s3.yandex.net...</td>\n",
       "      <td>True</td>\n",
       "      <td>99.99%</td>\n",
       "      <td>NaN</td>\n",
       "    </tr>\n",
       "    <tr>\n",
       "      <th>3</th>\n",
       "      <td>https://new-projects-team-public.s3.yandex.net...</td>\n",
       "      <td>True</td>\n",
       "      <td>99.99%</td>\n",
       "      <td>NaN</td>\n",
       "    </tr>\n",
       "    <tr>\n",
       "      <th>4</th>\n",
       "      <td>https://new-projects-team-public.s3.yandex.net...</td>\n",
       "      <td>False</td>\n",
       "      <td>99.99%</td>\n",
       "      <td>NaN</td>\n",
       "    </tr>\n",
       "    <tr>\n",
       "      <th>...</th>\n",
       "      <td>...</td>\n",
       "      <td>...</td>\n",
       "      <td>...</td>\n",
       "      <td>...</td>\n",
       "    </tr>\n",
       "    <tr>\n",
       "      <th>1944</th>\n",
       "      <td>https://new-projects-team-public.s3.yandex.net...</td>\n",
       "      <td>False</td>\n",
       "      <td>88.79%</td>\n",
       "      <td>NaN</td>\n",
       "    </tr>\n",
       "    <tr>\n",
       "      <th>1945</th>\n",
       "      <td>https://new-projects-team-public.s3.yandex.net...</td>\n",
       "      <td>False</td>\n",
       "      <td>88.79%</td>\n",
       "      <td>NaN</td>\n",
       "    </tr>\n",
       "    <tr>\n",
       "      <th>1946</th>\n",
       "      <td>https://new-projects-team-public.s3.yandex.net...</td>\n",
       "      <td>True</td>\n",
       "      <td>99.99%</td>\n",
       "      <td>NaN</td>\n",
       "    </tr>\n",
       "    <tr>\n",
       "      <th>1947</th>\n",
       "      <td>https://new-projects-team-public.s3.yandex.net...</td>\n",
       "      <td>False</td>\n",
       "      <td>88.79%</td>\n",
       "      <td>NaN</td>\n",
       "    </tr>\n",
       "    <tr>\n",
       "      <th>1948</th>\n",
       "      <td>https://new-projects-team-public.s3.yandex.net...</td>\n",
       "      <td>False</td>\n",
       "      <td>88.79%</td>\n",
       "      <td>NaN</td>\n",
       "    </tr>\n",
       "  </tbody>\n",
       "</table>\n",
       "<p>1949 rows × 4 columns</p>\n",
       "</div>"
      ],
      "text/plain": [
       "                                      INPUT:downloadUrl  ...  Unnamed: 3\n",
       "0     https://new-projects-team-public.s3.yandex.net...  ...         NaN\n",
       "1     https://new-projects-team-public.s3.yandex.net...  ...         NaN\n",
       "2     https://new-projects-team-public.s3.yandex.net...  ...         NaN\n",
       "3     https://new-projects-team-public.s3.yandex.net...  ...         NaN\n",
       "4     https://new-projects-team-public.s3.yandex.net...  ...         NaN\n",
       "...                                                 ...  ...         ...\n",
       "1944  https://new-projects-team-public.s3.yandex.net...  ...         NaN\n",
       "1945  https://new-projects-team-public.s3.yandex.net...  ...         NaN\n",
       "1946  https://new-projects-team-public.s3.yandex.net...  ...         NaN\n",
       "1947  https://new-projects-team-public.s3.yandex.net...  ...         NaN\n",
       "1948  https://new-projects-team-public.s3.yandex.net...  ...         NaN\n",
       "\n",
       "[1949 rows x 4 columns]"
      ]
     },
     "execution_count": 6,
     "metadata": {},
     "output_type": "execute_result"
    }
   ],
   "source": [
    "agg_data"
   ]
  },
  {
   "cell_type": "code",
   "execution_count": 7,
   "id": "99dc84cc-6bb6-45a9-bebe-225fd926bb67",
   "metadata": {
    "execution": {
     "iopub.execute_input": "2024-12-23T16:43:21.698738Z",
     "iopub.status.busy": "2024-12-23T16:43:21.697575Z",
     "iopub.status.idle": "2024-12-23T16:43:21.750581Z",
     "shell.execute_reply": "2024-12-23T16:43:21.749661Z",
     "shell.execute_reply.started": "2024-12-23T16:43:21.698697Z"
    },
    "tags": []
   },
   "outputs": [],
   "source": [
    "val_data = pd.read_csv(\"data/hw_3_markup_data.txt\", sep='\\t')\n",
    "val_urls = set(val_data['downloadUrl'])\n",
    "# val_urls\n",
    "# val_urls = \n",
    "\n",
    "urls = agg_data['INPUT:downloadUrl']\n",
    "labels = agg_data['OUTPUT:is_conifer']\n",
    "\n",
    "header = \"is_conifer\\tdownloadUrl\\n\"\n",
    "text_data = header + '\\n'.join([f\"{str(label).upper()}\\t{url}\" for label, url in zip(labels, urls) if url not in val_urls])\n",
    "# text_data\n",
    "with open(\"data/train_data_new.txt\", 'w') as f:\n",
    "    f.write(text_data)"
   ]
  },
  {
   "cell_type": "code",
   "execution_count": 20,
   "id": "ec09a935-050b-405d-ad4b-57db560facf5",
   "metadata": {
    "execution": {
     "iopub.execute_input": "2024-12-21T14:03:08.689389Z",
     "iopub.status.busy": "2024-12-21T14:03:08.688072Z",
     "iopub.status.idle": "2024-12-21T14:03:08.700522Z",
     "shell.execute_reply": "2024-12-21T14:03:08.699784Z",
     "shell.execute_reply.started": "2024-12-21T14:03:08.689343Z"
    },
    "tags": []
   },
   "outputs": [],
   "source": [
    "# text_data"
   ]
  },
  {
   "cell_type": "code",
   "execution_count": 23,
   "id": "6678d9b7-60e7-408a-8b1f-f658f5900c9d",
   "metadata": {
    "execution": {
     "iopub.execute_input": "2024-12-21T15:23:22.114391Z",
     "iopub.status.busy": "2024-12-21T15:23:22.113557Z",
     "iopub.status.idle": "2024-12-21T15:23:23.306357Z",
     "shell.execute_reply": "2024-12-21T15:23:23.305580Z",
     "shell.execute_reply.started": "2024-12-21T15:23:22.114349Z"
    },
    "tags": []
   },
   "outputs": [
    {
     "data": {
      "text/html": [
       "<div>\n",
       "<style scoped>\n",
       "    .dataframe tbody tr th:only-of-type {\n",
       "        vertical-align: middle;\n",
       "    }\n",
       "\n",
       "    .dataframe tbody tr th {\n",
       "        vertical-align: top;\n",
       "    }\n",
       "\n",
       "    .dataframe thead th {\n",
       "        text-align: right;\n",
       "    }\n",
       "</style>\n",
       "<table border=\"1\" class=\"dataframe\">\n",
       "  <thead>\n",
       "    <tr style=\"text-align: right;\">\n",
       "      <th></th>\n",
       "      <th>downloadUrl</th>\n",
       "    </tr>\n",
       "  </thead>\n",
       "  <tbody>\n",
       "    <tr>\n",
       "      <th>0</th>\n",
       "      <td>https://new-projects-team-public.s3.yandex.net...</td>\n",
       "    </tr>\n",
       "    <tr>\n",
       "      <th>1</th>\n",
       "      <td>https://new-projects-team-public.s3.yandex.net...</td>\n",
       "    </tr>\n",
       "    <tr>\n",
       "      <th>2</th>\n",
       "      <td>https://new-projects-team-public.s3.yandex.net...</td>\n",
       "    </tr>\n",
       "    <tr>\n",
       "      <th>3</th>\n",
       "      <td>https://new-projects-team-public.s3.yandex.net...</td>\n",
       "    </tr>\n",
       "    <tr>\n",
       "      <th>4</th>\n",
       "      <td>https://new-projects-team-public.s3.yandex.net...</td>\n",
       "    </tr>\n",
       "    <tr>\n",
       "      <th>...</th>\n",
       "      <td>...</td>\n",
       "    </tr>\n",
       "    <tr>\n",
       "      <th>11180</th>\n",
       "      <td>https://new-projects-team-public.s3.yandex.net...</td>\n",
       "    </tr>\n",
       "    <tr>\n",
       "      <th>11181</th>\n",
       "      <td>https://new-projects-team-public.s3.yandex.net...</td>\n",
       "    </tr>\n",
       "    <tr>\n",
       "      <th>11182</th>\n",
       "      <td>https://new-projects-team-public.s3.yandex.net...</td>\n",
       "    </tr>\n",
       "    <tr>\n",
       "      <th>11183</th>\n",
       "      <td>https://new-projects-team-public.s3.yandex.net...</td>\n",
       "    </tr>\n",
       "    <tr>\n",
       "      <th>11184</th>\n",
       "      <td>https://new-projects-team-public.s3.yandex.net...</td>\n",
       "    </tr>\n",
       "  </tbody>\n",
       "</table>\n",
       "<p>11185 rows × 1 columns</p>\n",
       "</div>"
      ],
      "text/plain": [
       "                                             downloadUrl\n",
       "0      https://new-projects-team-public.s3.yandex.net...\n",
       "1      https://new-projects-team-public.s3.yandex.net...\n",
       "2      https://new-projects-team-public.s3.yandex.net...\n",
       "3      https://new-projects-team-public.s3.yandex.net...\n",
       "4      https://new-projects-team-public.s3.yandex.net...\n",
       "...                                                  ...\n",
       "11180  https://new-projects-team-public.s3.yandex.net...\n",
       "11181  https://new-projects-team-public.s3.yandex.net...\n",
       "11182  https://new-projects-team-public.s3.yandex.net...\n",
       "11183  https://new-projects-team-public.s3.yandex.net...\n",
       "11184  https://new-projects-team-public.s3.yandex.net...\n",
       "\n",
       "[11185 rows x 1 columns]"
      ]
     },
     "execution_count": 23,
     "metadata": {},
     "output_type": "execute_result"
    }
   ],
   "source": [
    "# pd.read_excel(\"/home/jupyter/datasphere/project/\")"
   ]
  },
  {
   "cell_type": "code",
   "execution_count": 25,
   "id": "e0bf59ca-706f-40b1-9574-a999f481a5a4",
   "metadata": {
    "execution": {
     "iopub.execute_input": "2024-12-21T15:25:11.379839Z",
     "iopub.status.busy": "2024-12-21T15:25:11.378722Z",
     "iopub.status.idle": "2024-12-21T15:50:52.023045Z",
     "shell.execute_reply": "2024-12-21T15:50:52.022198Z",
     "shell.execute_reply.started": "2024-12-21T15:25:11.379795Z"
    },
    "tags": []
   },
   "outputs": [
    {
     "name": "stderr",
     "output_type": "stream",
     "text": [
      "100%|██████████| 11185/11185 [25:40<00:00,  7.26it/s]\n"
     ]
    }
   ],
   "source": [
    "download_images_from_csv(\"data/test_set_for_labeling.xlsx\", \"downloadUrl\", \"data/test_images\")"
   ]
  },
  {
   "cell_type": "code",
   "execution_count": null,
   "id": "0eb5f14e-722b-4d67-861e-2eb716d0772a",
   "metadata": {},
   "outputs": [],
   "source": []
  }
 ],
 "metadata": {
  "kernelspec": {
   "display_name": "DataSphere Kernel",
   "language": "python",
   "name": "python3"
  },
  "language_info": {
   "codemirror_mode": {
    "name": "ipython",
    "version": 3
   },
   "file_extension": ".py",
   "mimetype": "text/x-python",
   "name": "python",
   "nbconvert_exporter": "python",
   "pygments_lexer": "ipython3",
   "version": "3.10.12"
  }
 },
 "nbformat": 4,
 "nbformat_minor": 5
}
